{
 "cells": [
  {
   "cell_type": "markdown",
   "metadata": {},
   "source": [
    "# Multi Scale Network Analysis of Flight Data\n",
    "\n",
    "The provided data contains information about the Airports with their geo-coordinates, and the flights data for a single month. For this report we will focus on the Countries: USA, UK, China, Australia and only on internal flight data. "
   ]
  },
  {
   "cell_type": "markdown",
   "metadata": {},
   "source": [
    "----------------------------------------------------------------------------------------------------------------------------------------------------------------------------------------------------------------------------------------------\n"
   ]
  },
  {
   "cell_type": "markdown",
   "metadata": {},
   "source": [
    "## Preliminary Data Cleaning and Pre-processing"
   ]
  },
  {
   "cell_type": "code",
   "execution_count": null,
   "metadata": {},
   "outputs": [],
   "source": [
    "import pandas as pd \n",
    "import os \n",
    "import numpy as np"
   ]
  },
  {
   "cell_type": "markdown",
   "metadata": {},
   "source": [
    "\n",
    "- Found corrupt file entry in line number 8864 of Airports.csv for \"Sim��_��__��_��___��_��__��_��_____n Bol��_��__��_��___��_��__��_��_____var International,Venezuela,10.599444,-66.9825\" , manually corrected the file entry to \""
   ]
  },
  {
   "cell_type": "code",
   "execution_count": null,
   "metadata": {},
   "outputs": [],
   "source": [
    "# Data Files\n",
    "data_dir = \"/home/julian/git-repo/juliangdz/Multi-Scale-Network-Analysis-of-Flight-Data/data\"\n",
    "airport_dataframe = pd.read_csv(os.path.join(data_dir,'Airports.csv'))\n",
    "flights_dataframe = pd.read_excel(os.path.join(data_dir,r'Flight Data.xlsx'))"
   ]
  },
  {
   "cell_type": "code",
   "execution_count": null,
   "metadata": {},
   "outputs": [],
   "source": [
    "airport_dataframe.head()"
   ]
  },
  {
   "cell_type": "code",
   "execution_count": null,
   "metadata": {},
   "outputs": [],
   "source": [
    "flights_dataframe.head()"
   ]
  },
  {
   "cell_type": "code",
   "execution_count": null,
   "metadata": {},
   "outputs": [],
   "source": [
    "airport_dataframe[airport_dataframe[['Lon']].isna().any(axis=1)].shape[0]"
   ]
  },
  {
   "cell_type": "code",
   "execution_count": null,
   "metadata": {},
   "outputs": [],
   "source": [
    "airport_dataframe.describe()"
   ]
  },
  {
   "cell_type": "code",
   "execution_count": null,
   "metadata": {},
   "outputs": [],
   "source": [
    "flights_dataframe[flights_dataframe[['Weight']].isna().any(axis=1)].shape[0]"
   ]
  },
  {
   "cell_type": "code",
   "execution_count": null,
   "metadata": {},
   "outputs": [],
   "source": [
    "flights_dataframe.describe()"
   ]
  },
  {
   "cell_type": "markdown",
   "metadata": {},
   "source": [
    "- Check if Any Airports Flights Dataframe Not seen in Airports Dataframe - This will lead to Missing Geo Information"
   ]
  },
  {
   "cell_type": "code",
   "execution_count": null,
   "metadata": {},
   "outputs": [],
   "source": [
    "flights_dataframe[~flights_dataframe['Source'].isin(airport_dataframe['id'])].shape"
   ]
  },
  {
   "cell_type": "code",
   "execution_count": null,
   "metadata": {},
   "outputs": [],
   "source": [
    "flights_dataframe[~flights_dataframe['Target'].isin(airport_dataframe['id'])].shape"
   ]
  },
  {
   "cell_type": "markdown",
   "metadata": {},
   "source": [
    "### Data Preprocessing"
   ]
  },
  {
   "cell_type": "markdown",
   "metadata": {},
   "source": [
    "\n",
    "- Found Discrepencies in Country column for Airports.csv . Will proceed to correct the discrepencies observed using the Information from Flights Data excel by matching the Source and Source Country with the ID of the Airports.csv to correct the Country "
   ]
  },
  {
   "cell_type": "code",
   "execution_count": null,
   "metadata": {},
   "outputs": [],
   "source": [
    "def modify_country_information_based_on_infocus_countries(flights_df:pd.DataFrame,airports_df:pd.DataFrame,infocus_countries:dict):\n",
    "    flights_df = flights_df.copy()\n",
    "    airports_df = airports_df.copy()\n",
    "    \n",
    "    for key, value in infocus_countries.items():\n",
    "        for country in value:\n",
    "            flights_df.loc[flights_df['Source Country'] == country, 'Source Country'] = key\n",
    "            flights_df.loc[flights_df['Target Country'] == country, 'Target Country'] = key\n",
    "            airports_df.loc[airports_df['country'] == country, 'country'] = key\n",
    "\n",
    "    return flights_df, airports_df"
   ]
  },
  {
   "cell_type": "code",
   "execution_count": null,
   "metadata": {},
   "outputs": [],
   "source": [
    "in_focus_countries = {\n",
    "    \"USA\":[\"United States\",\"USA\"],\n",
    "    \"China\":[\"China\"],\n",
    "    \"UK\":[\"United Kingdom\",\"UK\"],\n",
    "    \"Australia\":[\"Australia\"]\n",
    "}\n",
    "modifed_flight_df,modified_airport_df = modify_country_information_based_on_infocus_countries(flights_dataframe,airport_dataframe,in_focus_countries)"
   ]
  },
  {
   "cell_type": "markdown",
   "metadata": {},
   "source": [
    "- Filter the Dataframe to only include for Countries - US, UK, China, Australia\n",
    "- Filter for Domestic Flights Only "
   ]
  },
  {
   "cell_type": "code",
   "execution_count": null,
   "metadata": {},
   "outputs": [],
   "source": [
    "def get_domestic_flights_for_countries(flights_df:pd.DataFrame,in_focus_countries:dict):\n",
    "    # Filter for only In-Focus Countries\n",
    "    _countries_list = list(in_focus_countries.keys())\n",
    "    domestic_flights_list = []\n",
    "    for country in _countries_list:\n",
    "        domestic_flights = flights_df[(flights_df['Source Country']==country)&(flights_df['Target Country']==country)]\n",
    "        domestic_flights_df = domestic_flights_list.append(domestic_flights)\n",
    "    domestic_flights_df = pd.concat(domestic_flights_list,ignore_index=True)\n",
    "    return domestic_flights_df"
   ]
  },
  {
   "cell_type": "code",
   "execution_count": null,
   "metadata": {},
   "outputs": [],
   "source": [
    "domestic_flights_dataframe = get_domestic_flights_for_countries(modifed_flight_df,in_focus_countries)\n",
    "domestic_flights_dataframe.head()"
   ]
  },
  {
   "cell_type": "markdown",
   "metadata": {},
   "source": [
    "- Using the \"id\" field in airports_dataframe add the \"Lat\" and \"Lon\" information in the Flights Dataframe for both Source and Target "
   ]
  },
  {
   "cell_type": "code",
   "execution_count": null,
   "metadata": {},
   "outputs": [],
   "source": [
    "def validate_and_merge_data_corrected(flight_data, airport_data):\n",
    "    \"\"\"\n",
    "    Corrected function to validate and merge flight data with airport data to include geographical coordinates.\n",
    "    Adjusted to handle the correct column names for latitude and longitude.\n",
    "\n",
    "    Parameters:\n",
    "    flight_data (DataFrame): The flight data DataFrame.\n",
    "    airport_data (DataFrame): The airport data DataFrame.\n",
    "\n",
    "    Returns:\n",
    "    DataFrame: Merged flight data with geographical coordinates.\n",
    "    \"\"\"\n",
    "    # Adjusting column names for latitude and longitude\n",
    "    airport_data = airport_data.rename(columns={'Lat ': 'Lat', 'Lon': 'Lon'})\n",
    "\n",
    "    # Checking for mismatches or missing data in airport IDs\n",
    "    missing_source_ids = flight_data[~flight_data['Source'].isin(airport_data['id'])]\n",
    "    missing_target_ids = flight_data[~flight_data['Target'].isin(airport_data['id'])]\n",
    "\n",
    "    # Merging flight data with airport data to include coordinates\n",
    "    merged_data = flight_data.merge(\n",
    "        airport_data[['id', 'Lat', 'Lon']], left_on='Source', right_on='id', how='left'\n",
    "    ).rename(columns={'Lat': 'Source Lat', 'Lon': 'Source Lon'}).drop('id', axis=1)\n",
    "\n",
    "    merged_data = merged_data.merge(\n",
    "        airport_data[['id', 'Lat', 'Lon']], left_on='Target', right_on='id', how='left'\n",
    "    ).rename(columns={'Lat': 'Target Lat', 'Lon': 'Target Lon'}).drop('id', axis=1)\n",
    "\n",
    "    return merged_data, missing_source_ids, missing_target_ids\n",
    "\n",
    "\n",
    "def data_integrity_checks(merged_data):\n",
    "    # Identifying rows with missing coordinates\n",
    "    missing_coordinates = merged_data[merged_data[['Source Lat', 'Source Lon', 'Target Lat', 'Target Lon']].isna().any(axis=1)]\n",
    "\n",
    "    # Counting the number of missing coordinate entries\n",
    "    missing_count = missing_coordinates.shape[0]\n",
    "\n",
    "    # Checking for duplicates in the flight data\n",
    "    duplicates_count = merged_data.duplicated(subset=['Source', 'Target']).sum()\n",
    "\n",
    "    # Checking for any anomalies in flight weights (e.g., negative values or extremely high values)\n",
    "    weight_issues = merged_data[merged_data['Weight'] <= 0]\n",
    "\n",
    "    # Counting the number of weight issues\n",
    "    weight_issues_count = weight_issues.shape[0]\n",
    "\n",
    "    return missing_count, duplicates_count, weight_issues_count\n"
   ]
  },
  {
   "cell_type": "code",
   "execution_count": null,
   "metadata": {},
   "outputs": [],
   "source": [
    "merged_flights_data_corrected, missing_source_ids_corrected, missing_target_ids_corrected = validate_and_merge_data_corrected(domestic_flights_dataframe, modified_airport_df)\n",
    "data_integrity_checks(merged_flights_data_corrected)"
   ]
  },
  {
   "cell_type": "markdown",
   "metadata": {},
   "source": [
    "- Found 49 Airports with Missing Lat and Lon Information in the Merged Dataframe. Will proceed to correct this using the IATA.csv "
   ]
  },
  {
   "cell_type": "code",
   "execution_count": null,
   "metadata": {},
   "outputs": [],
   "source": [
    "missing_coordinates = merged_flights_data_corrected[merged_flights_data_corrected[['Source Lat', 'Source Lon', 'Target Lat', 'Target Lon']].isna().any(axis=1)]\n",
    "missing_coordinates.head()"
   ]
  },
  {
   "cell_type": "markdown",
   "metadata": {},
   "source": [
    "\n",
    "To fix and correct this we use the iata.csv as reference guide to help fix our missing and inaccurate geo coordinates\n",
    "\n",
    "IATA/ICAO List\n",
    "This list contains the airport codes of [IATA airport code](https://en.wikipedia.org/wiki/International_Air_Transport_Association_airport_code) and [ICAO airport code](https://en.wikipedia.org/wiki/International_Civil_Aviation_Organization_airport_code) grouped based on the country code (ISO3166-1) and region name (ISO3166-2) supported in IP2Location geolocation database.\n",
    "\n",
    "\n",
    "|Field Name|Description|\n",
    "|---|---|\n",
    "|country_code|Two-character country code based on ISO 3166.|\n",
    "|region_name|Region or state name.|\n",
    "|iata|Three-character code of IATA airport code.|\n",
    "|icao|Four-character code of ICAO airport code.|\n",
    "|airport|Airport name.|\n",
    "|latitude|Latitude of the airport.|\n",
    "|longitude|Longitude of the airport.|\n",
    "\n",
    "\n",
    "\n",
    "The IATA/ICAO list data is licensed under [Creative Commons Attribution-ShareAlike 4.0 International License](https://creativecommons.org/licenses/by-sa/4.0/). It is free for personal or commercial use with attribution required by mentioning the use of this data as follows,\n",
    "**This site or product includes IATA/ICAO List data available from <a href=\"https://www.ip2location.com\">http://www.ip2location.com</a>.**\n",
    "\n",
    "IATA is a registered trademark of International Air Transport Association.   \n",
    "ICAO is a registered trademark of International Civil Aviation Organization.   \n",
    "All other product names mentioned on this repository may be trademarks or registered trademarks of their respective companies."
   ]
  },
  {
   "cell_type": "code",
   "execution_count": null,
   "metadata": {},
   "outputs": [],
   "source": [
    "reference_airports_dataframe = pd.read_csv(os.path.join(data_dir,'iata_icao.csv'))\n",
    "reference_airports_dataframe.head()"
   ]
  },
  {
   "cell_type": "code",
   "execution_count": null,
   "metadata": {},
   "outputs": [],
   "source": [
    "def fix_geo_coordinates_for_airports(routes_df, iata_df):\n",
    "    # Create a copy of the DataFrame to avoid modifying the original one\n",
    "    routes_df = routes_df.copy()\n",
    "\n",
    "    # Joining the DataFrames for Source\n",
    "    source_df = pd.merge(routes_df, iata_df[['iata', 'latitude', 'longitude']], left_on='Source', right_on='iata', how='left')\n",
    "    source_df.rename(columns={'latitude': 'new_source_lat', 'longitude': 'new_source_lon'}, inplace=True)\n",
    "\n",
    "    # Joining the DataFrames for Target\n",
    "    target_df = pd.merge(routes_df, iata_df[['iata', 'latitude', 'longitude']], left_on='Target', right_on='iata', how='left')\n",
    "    target_df.rename(columns={'latitude': 'new_target_lat', 'longitude': 'new_target_lon'}, inplace=True)\n",
    "\n",
    "    # Initialize counters\n",
    "    source_updated_count = 0\n",
    "    target_updated_count = 0\n",
    "\n",
    "    # Updating Source Lat and Lon\n",
    "    for index, row in routes_df.iterrows():\n",
    "        new_lat, new_lon = source_df.at[index, 'new_source_lat'], source_df.at[index, 'new_source_lon']\n",
    "        if pd.notna(new_lat) and pd.notna(new_lon):\n",
    "            if pd.isna(row['Source Lat']) or pd.isna(row['Source Lon']) or \\\n",
    "               row['Source Lat'] != new_lat or row['Source Lon'] != new_lon:\n",
    "                if pd.notna(row['Source Lat']) and pd.notna(row['Source Lon']):\n",
    "                    source_updated_count += 1\n",
    "                routes_df.at[index, 'Source Lat'] = new_lat\n",
    "                routes_df.at[index, 'Source Lon'] = new_lon\n",
    "\n",
    "        # Updating Target Lat and Lon\n",
    "        new_lat, new_lon = target_df.at[index, 'new_target_lat'], target_df.at[index, 'new_target_lon']\n",
    "        if pd.notna(new_lat) and pd.notna(new_lon):\n",
    "            if pd.isna(row['Target Lat']) or pd.isna(row['Target Lon']) or \\\n",
    "               row['Target Lat'] != new_lat or row['Target Lon'] != new_lon:\n",
    "                if pd.notna(row['Target Lat']) and pd.notna(row['Target Lon']):\n",
    "                    target_updated_count += 1\n",
    "                routes_df.at[index, 'Target Lat'] = new_lat\n",
    "                routes_df.at[index, 'Target Lon'] = new_lon\n",
    "\n",
    "    print(f\"Number of Source records updated: {source_updated_count}\")\n",
    "    print(f\"Number of Target records updated: {target_updated_count}\")\n",
    "\n",
    "    return routes_df"
   ]
  },
  {
   "cell_type": "code",
   "execution_count": null,
   "metadata": {},
   "outputs": [],
   "source": [
    "updated_routes_dataframe = fix_geo_coordinates_for_airports(merged_flights_data_corrected,reference_airports_dataframe)\n",
    "updated_routes_dataframe.head()"
   ]
  },
  {
   "cell_type": "code",
   "execution_count": null,
   "metadata": {},
   "outputs": [],
   "source": [
    "updated_routes_dataframe[updated_routes_dataframe[['Source Lon','Source Lat','Target Lon','Target Lat']].isna().any(axis=1)]"
   ]
  },
  {
   "cell_type": "markdown",
   "metadata": {},
   "source": [
    "- The Number of Missing Geo Records have reduced to 5 from 49. Using Online Resources the records can be updated. \n",
    "\n",
    "References: \n",
    "- \"https://www.travelmath.com/airport/PNF\"\n",
    "\n"
   ]
  },
  {
   "cell_type": "code",
   "execution_count": null,
   "metadata": {},
   "outputs": [],
   "source": [
    "def update_geo_information_using_online_search(online_search: dict, routes_df: pd.DataFrame):\n",
    "    # Iterate through each row in the DataFrame\n",
    "    for index, row in routes_df.iterrows():\n",
    "        # Check and update for Source\n",
    "        if row['Source'] in online_search:\n",
    "            routes_df.at[index, 'Source Lat'] = online_search[row['Source']][0]\n",
    "            routes_df.at[index, 'Source Lon'] = online_search[row['Source']][1]\n",
    "\n",
    "        # Check and update for Target\n",
    "        if row['Target'] in online_search:\n",
    "            routes_df.at[index, 'Target Lat'] = online_search[row['Target']][0]\n",
    "            routes_df.at[index, 'Target Lon'] = online_search[row['Target']][1]\n",
    "\n",
    "    return routes_df\n",
    "\n",
    "# Dictionary with online search data\n",
    "online_search = {\n",
    "    'JGC': [35.951942, -112.1475],\n",
    "    'PNF': [58.68333333, -156.83333333],\n",
    "    'TIS': [-10.58666666, 142.28749999]\n",
    "}"
   ]
  },
  {
   "cell_type": "code",
   "execution_count": null,
   "metadata": {},
   "outputs": [],
   "source": [
    "updated_routes_df = update_geo_information_using_online_search(online_search, updated_routes_dataframe)\n",
    "updated_routes_df.head()"
   ]
  },
  {
   "cell_type": "code",
   "execution_count": null,
   "metadata": {},
   "outputs": [],
   "source": [
    "print(updated_routes_df[updated_routes_df[['Source Lon','Source Lat','Target Lon','Target Lat']].isna().any(axis=1)])"
   ]
  },
  {
   "cell_type": "code",
   "execution_count": null,
   "metadata": {},
   "outputs": [],
   "source": [
    "updated_routes_df.describe()"
   ]
  },
  {
   "cell_type": "markdown",
   "metadata": {},
   "source": [
    "- Check for Duplicate Routes - This is to be handled by taking the sum of weights"
   ]
  },
  {
   "cell_type": "code",
   "execution_count": null,
   "metadata": {},
   "outputs": [],
   "source": [
    "def fixing_for_duplicate_routes(routes_df):\n",
    "    # Group by 'Source' and 'Target' and sum the 'Weight'\n",
    "    routes_grouped = routes_df.groupby(['Source', 'Target']).agg({'Weight': 'sum'}).reset_index()\n",
    "\n",
    "    # Merging the grouped data back with the original dataframe to retain other columns\n",
    "    # This step ensures we keep one set of lat/lon for each route\n",
    "    routes_df_deduped = routes_df.drop('Weight', axis=1).drop_duplicates(subset=['Source', 'Target'])\n",
    "    routes_df_fixed = pd.merge(routes_df_deduped, routes_grouped, on=['Source', 'Target'], how='left')\n",
    "\n",
    "    return routes_df_fixed"
   ]
  },
  {
   "cell_type": "code",
   "execution_count": null,
   "metadata": {},
   "outputs": [],
   "source": [
    "# Applying the function to the updated routes dataframe\n",
    "fixed_routes_df = fixing_for_duplicate_routes(updated_routes_df)\n",
    "# Displaying the first few rows of the fixed DataFrame\n",
    "fixed_routes_df.head()"
   ]
  },
  {
   "cell_type": "code",
   "execution_count": null,
   "metadata": {},
   "outputs": [],
   "source": [
    "# Checking for duplicates in the flight data\n",
    "fixed_routes_df.duplicated(subset=['Source', 'Target']).sum()"
   ]
  },
  {
   "cell_type": "code",
   "execution_count": null,
   "metadata": {},
   "outputs": [],
   "source": [
    "fixed_routes_df.describe()"
   ]
  },
  {
   "cell_type": "markdown",
   "metadata": {},
   "source": [
    "- All Geo Information has been fixed and corrected \n",
    "- All Duplicated routes have been handled with sum of weights \n",
    "- No unreasonable Weights found "
   ]
  },
  {
   "cell_type": "code",
   "execution_count": null,
   "metadata": {},
   "outputs": [],
   "source": [
    "fixed_routes_df.to_csv(os.path.join(data_dir,'cleaned_routes.csv'),index=False)"
   ]
  },
  {
   "cell_type": "markdown",
   "metadata": {},
   "source": [
    "##\n",
    "----------------------------------------------------------------------------------------------------------------------------------------------------------------------------------------------------------------------------------------------\n"
   ]
  },
  {
   "cell_type": "markdown",
   "metadata": {},
   "source": [
    "## Network Visualization "
   ]
  },
  {
   "cell_type": "markdown",
   "metadata": {},
   "source": [
    "- Visualize for Domestic Network 1 single image for all the countries in the fixed_routes_df\n",
    "- Visualize for Each Country Seperately - Map Visualization, Busy Airports Visualization, Without Map Plane Network Visualization "
   ]
  },
  {
   "cell_type": "code",
   "execution_count": null,
   "metadata": {},
   "outputs": [],
   "source": [
    "from mpl_toolkits.basemap import Basemap\n",
    "import matplotlib.pyplot as plt \n",
    "import networkx as nx\n",
    "\n",
    "# Function to create a Basemap network plot for a given country\n",
    "def create_basemap_network_plot(data, country, llcrnrlon, llcrnrlat, urcrnrlon, urcrnrlat,mode='simple',show_cmap=False):\n",
    "    # Filter data for the country\n",
    "    country_data = data[data['Source Country'] == country]\n",
    "\n",
    "    # Create a graph\n",
    "    G = nx.Graph()\n",
    "\n",
    "    # Add nodes with attributes\n",
    "    for _, row in country_data.iterrows():\n",
    "        G.add_node(row['Source'], pos=(row['Source Lon'], row['Source Lat']), weight=row['Weight'])\n",
    "        G.add_node(row['Target'], pos=(row['Target Lon'], row['Target Lat']), weight=row['Weight'])\n",
    "        G.add_edge(row['Source'], row['Target'], weight=row['Weight'])\n",
    "\n",
    "    \n",
    "\n",
    "    # Node positions\n",
    "    pos = nx.get_node_attributes(G, 'pos')\n",
    "\n",
    "    # Set up base map\n",
    "    plt.figure(figsize=(15, 20))\n",
    "    m = Basemap(projection='merc', llcrnrlon=llcrnrlon, llcrnrlat=llcrnrlat,\n",
    "                urcrnrlon=urcrnrlon, urcrnrlat=urcrnrlat, lat_ts=0, resolution='l', suppress_ticks=True)\n",
    "\n",
    "    # Convert longitudes and latitudes to map coordinates\n",
    "    pos_on_map = {node: m(*pos[node]) for node in pos}\n",
    "\n",
    "    # Draw nodes and edges\n",
    "    if mode == 'advanced':\n",
    "        # Node size and color based on weights\n",
    "        weights = np.array([data['weight'] for _, data in G.nodes(data=True)])\n",
    "        node_size = 100 * (weights / weights.max())\n",
    "        node_color = node_size\n",
    "        \n",
    "        nx.draw_networkx_nodes(G, pos_on_map, node_size=node_size, node_color=node_color, cmap=plt.cm.viridis, alpha=0.99)\n",
    "        nx.draw_networkx_edges(G, pos_on_map, alpha=0.15,edge_color=\"gray\")\n",
    "    else:\n",
    "        nx.draw_networkx_nodes(G, pos_on_map, node_size=50, node_color=\"blue\", alpha=0.99)\n",
    "        nx.draw_networkx_edges(G, pos_on_map, alpha=0.15,edge_color=\"gray\")\n",
    "    # Draw map details\n",
    "    m.drawcountries(linewidth=0.1)\n",
    "    m.drawstates(linewidth=0.1)\n",
    "    m.drawcoastlines(linewidth=0.1)\n",
    "\n",
    "    plt.title(f\"Flight Network in {country}\")\n",
    "    if show_cmap:\n",
    "        plt.colorbar(plt.cm.ScalarMappable(cmap=plt.cm.viridis), ax=plt.gca(), orientation='vertical', label='Relative Busyness')\n",
    "    plt.show()\n",
    "    \n",
    "def plot_airport_network(country_dataframe: pd.DataFrame, threshold_routes: int = 30, use_averaging: bool = False, use_top_k: bool = False, top_k: int = 10):\n",
    "    \"\"\"\n",
    "    Plots a network graph of airports with nodes sized and colored according to the number of routes.\n",
    "    Can use threshold value as the average route count if use_averaging is true, else will use the threshold_routes value, else if use_top_k is given will check route counts and only show the airport ID and larger size for the top k airports depending on value from top_k variable.\n",
    "    \n",
    "    Parameters:\n",
    "    country_dataframe (pd.DataFrame): DataFrame containing airport route information.\n",
    "    threshold_routes (int): The fixed threshold number of routes to determine node sizes and colors.\n",
    "    use_averaging (bool): Whether to use the average route count as the threshold.\n",
    "    use_top_k (bool): Whether to highlight only the top k airports with the most routes.\n",
    "    top_k (int): The number of top airports to highlight.\n",
    "    \"\"\"\n",
    "    # Calculate the number of routes for each airport\n",
    "    route_counts = pd.concat([country_dataframe['Source'], country_dataframe['Target']]).value_counts()\n",
    "\n",
    "    # Determine the threshold for highlighting airports\n",
    "    if use_averaging:\n",
    "        threshold_routes = int(route_counts.mean())\n",
    "    elif use_top_k:\n",
    "        threshold_routes = route_counts.nlargest(top_k).iloc[-1]  # Get the route count of the k-th airport\n",
    "\n",
    "    # Create the network graph\n",
    "    G = nx.Graph()\n",
    "    for index, row in country_dataframe.iterrows():\n",
    "        G.add_edge(row['Source'], row['Target'], weight=row['Weight'])\n",
    "\n",
    "    # Create a unique set of airports from both Source and Target\n",
    "    all_airports = pd.concat([country_dataframe['Source'], country_dataframe['Target']]).unique()\n",
    "\n",
    "    # Initialize a position dictionary for all airports\n",
    "    pos = {}\n",
    "    for airport in all_airports:\n",
    "        # Attempt to get position from 'Source' data\n",
    "        source_pos = country_dataframe[country_dataframe['Source'] == airport][['Source Lon', 'Source Lat']].head(1).values\n",
    "        # If not found, get position from 'Target' data\n",
    "        target_pos = country_dataframe[country_dataframe['Target'] == airport][['Target Lon', 'Target Lat']].head(1).values\n",
    "        # Use the first valid position found\n",
    "        pos[airport] = tuple(source_pos[0]) if len(source_pos) > 0 else tuple(target_pos[0])\n",
    "\n",
    "    # Set node attributes for sizes and labels based on the threshold\n",
    "    high_route_size = 300  # Size for airports above the threshold\n",
    "    low_route_size = 30    # Size for airports below the threshold\n",
    "    high_route_color = 'red'    # Color for airports above the threshold\n",
    "    low_route_color = 'green'   # Color for airports below the threshold\n",
    "    for node in G.nodes():\n",
    "        count = route_counts.get(node, 0)\n",
    "        G.nodes[node]['size'] = high_route_size if count >= threshold_routes else low_route_size\n",
    "        G.nodes[node]['color'] = high_route_color if count >= threshold_routes else low_route_color\n",
    "        G.nodes[node]['label'] = node if count >= threshold_routes else ''\n",
    "\n",
    "    # Draw the graph\n",
    "    plt.figure(figsize=(15, 15))\n",
    "    nx.draw_networkx_edges(G, pos, alpha=0.4)\n",
    "    nx.draw_networkx_nodes(G, pos, node_size=[G.nodes[node]['size'] for node in G.nodes],\n",
    "                           node_color=[G.nodes[node]['color'] for node in G.nodes], alpha=0.6)\n",
    "    nx.draw_networkx_labels(G, pos, labels={node: G.nodes[node]['label'] for node in G.nodes if G.nodes[node]['label']}, font_size=8)\n",
    "\n",
    "    plt.axis('off')\n",
    "    plt.show()\n",
    "    \n",
    "\n",
    "def plot_route_counts_bar(country_dataframe: pd.DataFrame, threshold_routes: int = 30, use_averaging: bool = False, use_top_k: bool = False, top_k: int = 10):\n",
    "    \"\"\"\n",
    "    Plots a horizontal bar plot of airport IDs against their route counts based on filter criteria.\n",
    "    Will plot only airport IDs that are above average if using averaging, else use the threshold_routes value,\n",
    "    or plot for top k based on the top_k value.\n",
    "\n",
    "    Parameters:\n",
    "    country_dataframe (pd.DataFrame): DataFrame containing airport route information.\n",
    "    threshold_routes (int): The fixed threshold number of routes to determine which airports to plot.\n",
    "    use_averaging (bool): Whether to use the average route count as the threshold for plotting.\n",
    "    use_top_k (bool): Whether to plot only the top k airports with the most routes.\n",
    "    top_k (int): The number of top airports to plot.\n",
    "    \"\"\"\n",
    "    # Calculate the number of routes for each airport\n",
    "    route_counts = pd.concat([country_dataframe['Source'], country_dataframe['Target']]).value_counts()\n",
    "\n",
    "    # Determine the threshold for plotting\n",
    "    if use_averaging:\n",
    "        threshold_routes = int(route_counts.mean())\n",
    "    elif use_top_k:\n",
    "        # Get the route counts for the top k airports\n",
    "        route_counts = route_counts.nlargest(top_k)\n",
    "    else:\n",
    "        # Filter out airports below the threshold\n",
    "        route_counts = route_counts[route_counts >= threshold_routes]\n",
    "\n",
    "    # Plot only the airports that satisfy the filter criteria\n",
    "    filtered_route_counts = route_counts[route_counts >= threshold_routes]\n",
    "\n",
    "    # Create the bar plot\n",
    "    plt.figure(figsize=(10, len(filtered_route_counts) * 0.5))  # Adjust the figure size based on the number of airports\n",
    "    filtered_route_counts.sort_values().plot(kind='barh', color='skyblue')\n",
    "    plt.xlabel('Route Count')\n",
    "    plt.ylabel('Airport ID')\n",
    "    # plt.title('Airport Route Counts for Filtered Airports')\n",
    "\n",
    "    # Add route count labels on the bars\n",
    "    for index, value in enumerate(filtered_route_counts.sort_values()):\n",
    "        plt.text(value, index, str(value))\n",
    "\n",
    "    plt.tight_layout()\n",
    "    plt.show()\n",
    "\n",
    "def get_country_dataframe(datframe:pd.DataFrame,country:str):\n",
    "    country_dataframe = datframe[datframe['Source Country'] == country]\n",
    "    country_dataframe.head()\n",
    "    return country_dataframe"
   ]
  },
  {
   "cell_type": "code",
   "execution_count": null,
   "metadata": {},
   "outputs": [],
   "source": [
    "# Coordinates for bounding boxes for each country\n",
    "bounding_boxes = {\n",
    "    'USA': [-180, 10, -50, 70],\n",
    "    'UK': [-10, 50, 2, 60],\n",
    "    'China': [73, 18, 135, 54],\n",
    "    'Australia': [113, -44, 154, -10]\n",
    "}\n"
   ]
  },
  {
   "cell_type": "markdown",
   "metadata": {},
   "source": [
    "#### Networks Visualizations for USA"
   ]
  },
  {
   "cell_type": "code",
   "execution_count": null,
   "metadata": {},
   "outputs": [],
   "source": [
    "usa_dataframe = get_country_dataframe(fixed_routes_df,\"USA\")\n",
    "usa_dataframe.head()"
   ]
  },
  {
   "cell_type": "code",
   "execution_count": null,
   "metadata": {},
   "outputs": [],
   "source": [
    "usa_dataframe.describe()"
   ]
  },
  {
   "cell_type": "code",
   "execution_count": null,
   "metadata": {},
   "outputs": [],
   "source": [
    "# Create Basemap network plots for each country\n",
    "create_basemap_network_plot(fixed_routes_df, \"USA\", *bounding_boxes[\"USA\"],mode='simple')"
   ]
  },
  {
   "cell_type": "markdown",
   "metadata": {},
   "source": [
    "- Using the weights to use some color gradient and dynamic node size so as to visualize node/ airports that have larger weights - here we use relative weights. Weights signify the maximum capacity "
   ]
  },
  {
   "cell_type": "code",
   "execution_count": null,
   "metadata": {},
   "outputs": [],
   "source": [
    "# Create Basemap network plots for each country\n",
    "create_basemap_network_plot(fixed_routes_df, \"USA\", *bounding_boxes[\"USA\"],mode='advanced',show_cmap=False)"
   ]
  },
  {
   "cell_type": "markdown",
   "metadata": {},
   "source": [
    "- By Checking the number of routes for each airport and Displaying airport ID for airports having greater than average number of route connections. Signifying Popularity of airports. "
   ]
  },
  {
   "cell_type": "code",
   "execution_count": null,
   "metadata": {},
   "outputs": [],
   "source": [
    "plot_airport_network(usa_dataframe,use_averaging=True)"
   ]
  },
  {
   "cell_type": "markdown",
   "metadata": {},
   "source": [
    "- Visualize the Route Counts for the Airport nodes highlighted, that have greater than average connections - signifying some degree of popularity or connectivity for these airports. \n"
   ]
  },
  {
   "cell_type": "code",
   "execution_count": null,
   "metadata": {},
   "outputs": [],
   "source": [
    "plot_route_counts_bar(usa_dataframe,use_averaging=True)"
   ]
  },
  {
   "cell_type": "markdown",
   "metadata": {},
   "source": [
    "- Lets visualize the top 10 airports with highest number of connections "
   ]
  },
  {
   "cell_type": "code",
   "execution_count": null,
   "metadata": {},
   "outputs": [],
   "source": [
    "plot_airport_network(usa_dataframe,use_top_k=True,top_k=10)"
   ]
  },
  {
   "cell_type": "code",
   "execution_count": null,
   "metadata": {},
   "outputs": [],
   "source": [
    "plot_route_counts_bar(usa_dataframe,use_top_k=True,top_k=10)"
   ]
  },
  {
   "cell_type": "markdown",
   "metadata": {},
   "source": [
    "#### Network Visualization for UK"
   ]
  },
  {
   "cell_type": "code",
   "execution_count": null,
   "metadata": {},
   "outputs": [],
   "source": [
    "uk_dataframe = get_country_dataframe(fixed_routes_df,\"UK\")\n",
    "uk_dataframe.head()"
   ]
  },
  {
   "cell_type": "code",
   "execution_count": null,
   "metadata": {},
   "outputs": [],
   "source": [
    "uk_dataframe.describe()"
   ]
  },
  {
   "cell_type": "code",
   "execution_count": null,
   "metadata": {},
   "outputs": [],
   "source": [
    "# Create Basemap network plots for each country\n",
    "create_basemap_network_plot(fixed_routes_df, \"UK\", *bounding_boxes[\"UK\"],mode='simple')"
   ]
  },
  {
   "cell_type": "markdown",
   "metadata": {},
   "source": [
    "- Using the weights to use some color gradient and dynamic node size so as to visualize node/ airports that have larger weights - here we use relative weights. Weights signify the maximum capacity "
   ]
  },
  {
   "cell_type": "code",
   "execution_count": null,
   "metadata": {},
   "outputs": [],
   "source": [
    "# Create Basemap network plots for each country\n",
    "create_basemap_network_plot(fixed_routes_df, \"UK\", *bounding_boxes[\"UK\"],mode='advanced',show_cmap=False)"
   ]
  },
  {
   "cell_type": "markdown",
   "metadata": {},
   "source": [
    "- By Checking the number of routes for each airport and Displaying airport ID for airports having greater than average number of route connections. Signifying Popularity of airports. "
   ]
  },
  {
   "cell_type": "code",
   "execution_count": null,
   "metadata": {},
   "outputs": [],
   "source": [
    "plot_airport_network(uk_dataframe,use_averaging=True)"
   ]
  },
  {
   "cell_type": "markdown",
   "metadata": {},
   "source": [
    "- Visualize the Route Counts for the Airport nodes highlighted, that have greater than average connections - signifying some degree of popularity or connectivity for these airports. \n"
   ]
  },
  {
   "cell_type": "code",
   "execution_count": null,
   "metadata": {},
   "outputs": [],
   "source": [
    "plot_route_counts_bar(uk_dataframe,use_averaging=True)"
   ]
  },
  {
   "cell_type": "markdown",
   "metadata": {},
   "source": [
    "- Lets visualize the top 10 airports with highest number of connections "
   ]
  },
  {
   "cell_type": "code",
   "execution_count": null,
   "metadata": {},
   "outputs": [],
   "source": [
    "plot_airport_network(uk_dataframe,use_top_k=True,top_k=10)"
   ]
  },
  {
   "cell_type": "code",
   "execution_count": null,
   "metadata": {},
   "outputs": [],
   "source": [
    "plot_route_counts_bar(uk_dataframe,use_top_k=True,top_k=10)"
   ]
  },
  {
   "cell_type": "markdown",
   "metadata": {},
   "source": [
    "#### Network Visualization for China"
   ]
  },
  {
   "cell_type": "code",
   "execution_count": null,
   "metadata": {},
   "outputs": [],
   "source": [
    "china_dataframe = get_country_dataframe(fixed_routes_df,\"China\")\n",
    "china_dataframe.head()"
   ]
  },
  {
   "cell_type": "code",
   "execution_count": null,
   "metadata": {},
   "outputs": [],
   "source": [
    "china_dataframe.describe()"
   ]
  },
  {
   "cell_type": "code",
   "execution_count": null,
   "metadata": {},
   "outputs": [],
   "source": [
    "# Create Basemap network plots for each country\n",
    "create_basemap_network_plot(fixed_routes_df, \"China\", *bounding_boxes[\"China\"],mode='simple')"
   ]
  },
  {
   "cell_type": "markdown",
   "metadata": {},
   "source": [
    "- Using the weights to use some color gradient and dynamic node size so as to visualize node/ airports that have larger weights - here we use relative weights. Weights signify the maximum capacity "
   ]
  },
  {
   "cell_type": "code",
   "execution_count": null,
   "metadata": {},
   "outputs": [],
   "source": [
    "# Create Basemap network plots for each country\n",
    "create_basemap_network_plot(fixed_routes_df, \"China\", *bounding_boxes[\"China\"],mode='advanced',show_cmap=False)"
   ]
  },
  {
   "cell_type": "markdown",
   "metadata": {},
   "source": [
    "- By Checking the number of routes for each airport and Displaying airport ID for airports having greater than average number of route connections. Signifying Popularity of airports. "
   ]
  },
  {
   "cell_type": "code",
   "execution_count": null,
   "metadata": {},
   "outputs": [],
   "source": [
    "plot_airport_network(china_dataframe,use_averaging=True)"
   ]
  },
  {
   "cell_type": "markdown",
   "metadata": {},
   "source": [
    "- Visualize the Route Counts for the Airport nodes highlighted, that have greater than average connections - signifying some degree of popularity or connectivity for these airports. \n"
   ]
  },
  {
   "cell_type": "code",
   "execution_count": null,
   "metadata": {},
   "outputs": [],
   "source": [
    "plot_route_counts_bar(china_dataframe,use_averaging=True)"
   ]
  },
  {
   "cell_type": "markdown",
   "metadata": {},
   "source": [
    "- Lets visualize the top 10 airports with highest number of connections "
   ]
  },
  {
   "cell_type": "code",
   "execution_count": null,
   "metadata": {},
   "outputs": [],
   "source": [
    "plot_airport_network(china_dataframe,use_top_k=True,top_k=10)"
   ]
  },
  {
   "cell_type": "code",
   "execution_count": null,
   "metadata": {},
   "outputs": [],
   "source": [
    "plot_route_counts_bar(china_dataframe,use_top_k=True,top_k=10)"
   ]
  },
  {
   "cell_type": "markdown",
   "metadata": {},
   "source": [
    "#### Network Visualization for Australia"
   ]
  },
  {
   "cell_type": "code",
   "execution_count": null,
   "metadata": {},
   "outputs": [],
   "source": [
    "australia_dataframe = get_country_dataframe(fixed_routes_df,\"Australia\")\n",
    "australia_dataframe.head()"
   ]
  },
  {
   "cell_type": "code",
   "execution_count": null,
   "metadata": {},
   "outputs": [],
   "source": [
    "australia_dataframe.describe()"
   ]
  },
  {
   "cell_type": "code",
   "execution_count": null,
   "metadata": {},
   "outputs": [],
   "source": [
    "# Create Basemap network plots for each country\n",
    "create_basemap_network_plot(fixed_routes_df, \"Australia\", *bounding_boxes[\"Australia\"],mode='simple')"
   ]
  },
  {
   "cell_type": "markdown",
   "metadata": {},
   "source": [
    "- Using the weights to use some color gradient and dynamic node size so as to visualize node/ airports that have larger weights - here we use relative weights. Weights signify the maximum capacity "
   ]
  },
  {
   "cell_type": "code",
   "execution_count": null,
   "metadata": {},
   "outputs": [],
   "source": [
    "# Create Basemap network plots for each country\n",
    "create_basemap_network_plot(fixed_routes_df, \"Australia\", *bounding_boxes[\"Australia\"],mode='advanced',show_cmap=False)"
   ]
  },
  {
   "cell_type": "markdown",
   "metadata": {},
   "source": [
    "- By Checking the number of routes for each airport and Displaying airport ID for airports having greater than average number of route connections. Signifying Popularity of airports. "
   ]
  },
  {
   "cell_type": "code",
   "execution_count": null,
   "metadata": {},
   "outputs": [],
   "source": [
    "plot_airport_network(australia_dataframe,use_averaging=True)"
   ]
  },
  {
   "cell_type": "markdown",
   "metadata": {},
   "source": [
    "- Visualize the Route Counts for the Airport nodes highlighted, that have greater than average connections - signifying some degree of popularity or connectivity for these airports. \n"
   ]
  },
  {
   "cell_type": "code",
   "execution_count": null,
   "metadata": {},
   "outputs": [],
   "source": [
    "plot_route_counts_bar(australia_dataframe,use_averaging=True)"
   ]
  },
  {
   "cell_type": "markdown",
   "metadata": {},
   "source": [
    "- Lets visualize the top 10 airports with highest number of connections "
   ]
  },
  {
   "cell_type": "code",
   "execution_count": null,
   "metadata": {},
   "outputs": [],
   "source": [
    "plot_airport_network(australia_dataframe,use_top_k=True,top_k=10)"
   ]
  },
  {
   "cell_type": "code",
   "execution_count": null,
   "metadata": {},
   "outputs": [],
   "source": [
    "plot_route_counts_bar(australia_dataframe,use_top_k=True,top_k=10)"
   ]
  },
  {
   "cell_type": "markdown",
   "metadata": {},
   "source": [
    "##\n",
    "----------------------------------------------------------------------------------------------------------------------------------------------------------------------------------------------------------------------------------------------"
   ]
  },
  {
   "cell_type": "markdown",
   "metadata": {},
   "source": [
    "## Network Analysis"
   ]
  },
  {
   "cell_type": "markdown",
   "metadata": {},
   "source": [
    "Implement graph analysis across 3 different graph scales: 1) macro-scale (statistical analysis), 2) meso-scale (community analysis), 3) node-level (centrality analysis).\n",
    "\n",
    "- Analyze the Degreee Distribution for Each Country (Macro-Scale Analysis)\n",
    "- Analyze the Degree vs Betweeness (Node Level Analysis / Micro-Scale Analysis)\n",
    "- Analyze the Assortativity (degree-degree correlation) \n",
    "- Core Community Size Analysis (Meso-Scale analysis)"
   ]
  },
  {
   "cell_type": "markdown",
   "metadata": {},
   "source": [
    "\n",
    "1. Macro-Scale (Statistical Analysis): Degree Distribution\n",
    "We will calculate and visualize the degree distribution of this network. The degree of a node in a graph indicates the number of connections it has. In our case, it represents the number of direct flight connections an airport has. This analysis helps in understanding the general structure of the network, such as whether it's dominated by a few highly connected nodes or if connections are more evenly distributed.\n",
    "\n",
    "2. Micro-Scale (Node-Level Analysis): Degree vs. Betweenness\n",
    "We will calculate the betweenness centrality for each node and plot it against its degree. Betweenness centrality measures the number of shortest paths that pass through a node. In the context of flight networks, a high betweenness centrality indicates an airport's strategic importance as a connecting hub.\n",
    "\n",
    "3. Analyze the Assortativity\n",
    "We will calculate the assortativity coefficient of the network, which measures the similarity of connections in the graph with respect to the node degree. This will tell us if airports with similar numbers of connections tend to be connected to each other.\n",
    "\n",
    "4. Meso-Scale (Community Analysis): Core Community Size Analysis\n",
    "We will use algorithms to detect communities within the network and analyze the size of these communities. This can reveal how the flight network is regionally structured or functionally partitioned."
   ]
  },
  {
   "cell_type": "markdown",
   "metadata": {},
   "source": [
    "### Macro-Scale Analysis (Statistical Analaysis) - Degree Distribution "
   ]
  },
  {
   "cell_type": "markdown",
   "metadata": {},
   "source": [
    "- In-Degree: The number of routes coming into a location.\n",
    "- Out-Degree: The number of routes going out from a location.\n",
    "- Overall Degree: The total number of incoming and outgoing routes for a location."
   ]
  },
  {
   "cell_type": "code",
   "execution_count": 76,
   "metadata": {},
   "outputs": [],
   "source": [
    "def plot_degree_vs_frequency_distribution(country_dataframe: pd.DataFrame):\n",
    "    \"\"\"\n",
    "    Plots the degree vs frequency distribution as histograms for a given country's route data.\n",
    "\n",
    "    :param country_dataframe: DataFrame containing route data for a specific country.\n",
    "    \"\"\"\n",
    "    # Calculating in-degree, out-degree, and overall degree for each location\n",
    "    in_degree = country_dataframe['Target'].value_counts()\n",
    "    out_degree = country_dataframe['Source'].value_counts()\n",
    "    overall_degree = in_degree.add(out_degree, fill_value=0)\n",
    "\n",
    "    # Converting Series to DataFrames for easier handling\n",
    "    in_degree_df = in_degree.reset_index()\n",
    "    in_degree_df.columns = ['Location', 'In-Degree']\n",
    "\n",
    "    out_degree_df = out_degree.reset_index()\n",
    "    out_degree_df.columns = ['Location', 'Out-Degree']\n",
    "\n",
    "    overall_degree_df = overall_degree.reset_index()\n",
    "    overall_degree_df.columns = ['Location', 'Overall-Degree']\n",
    "\n",
    "    # Setting up subplots\n",
    "    fig, axs = plt.subplots(1, 3, figsize=(18, 6))\n",
    "\n",
    "    # Plotting histograms for in-degree, out-degree, and overall degree\n",
    "    axs[0].hist(in_degree_df['In-Degree'], bins=30, color='skyblue', edgecolor='black')\n",
    "    axs[0].set_title('Histogram of In-Degree Distribution')\n",
    "    axs[0].set_xlabel('In-Degree')\n",
    "    axs[0].set_ylabel('Frequency')\n",
    "\n",
    "    axs[1].hist(out_degree_df['Out-Degree'], bins=30, color='skyblue', edgecolor='black')\n",
    "    axs[1].set_title('Histogram of Out-Degree Distribution')\n",
    "    axs[1].set_xlabel('Out-Degree')\n",
    "\n",
    "    axs[2].hist(overall_degree_df['Overall-Degree'], bins=30, color='skyblue', edgecolor='black')\n",
    "    axs[2].set_title('Histogram of Overall Degree Distribution')\n",
    "    axs[2].set_xlabel('Overall Degree')\n",
    "\n",
    "    plt.tight_layout()\n",
    "    plt.show()\n",
    "    \n",
    "\n",
    "def plot_log_weighted_degree_vs_descending_rank(country_dataframe: pd.DataFrame):\n",
    "    \"\"\"\n",
    "    Plots the logarithmic scale of in-degree, out-degree, and overall-degree \n",
    "    against their descending rank for each location in a given country's dataframe.\n",
    "\n",
    "    :param country_dataframe (pd.DataFrame): A dataframe containing 'Source' and 'Target' columns\n",
    "                                      representing connections between locations.\n",
    "\n",
    "    \"\"\"\n",
    "    # Calculating in-degree, out-degree, and overall degree for each location\n",
    "    in_degree = country_dataframe['Target'].value_counts()\n",
    "    out_degree = country_dataframe['Source'].value_counts()\n",
    "    overall_degree = in_degree.add(out_degree, fill_value=0)\n",
    "\n",
    "    # Converting Series to DataFrames for easier handling\n",
    "    in_degree_df = in_degree.reset_index()\n",
    "    in_degree_df.columns = ['Location', 'In-Degree']\n",
    "\n",
    "    out_degree_df = out_degree.reset_index()\n",
    "    out_degree_df.columns = ['Location', 'Out-Degree']\n",
    "\n",
    "    overall_degree_df = overall_degree.reset_index()\n",
    "    overall_degree_df.columns = ['Location', 'Overall-Degree']\n",
    "    \n",
    "    # Ranking the locations based on their weighted degrees\n",
    "    in_degree_ranked = in_degree_df.sort_values('In-Degree', ascending=False).reset_index(drop=True)\n",
    "    out_degree_ranked = out_degree_df.sort_values('Out-Degree', ascending=False).reset_index(drop=True)\n",
    "    overall_degree_ranked = overall_degree_df.sort_values('Overall-Degree', ascending=False).reset_index(drop=True)\n",
    "\n",
    "    # Adding rank columns\n",
    "    in_degree_ranked['Rank'] = in_degree_ranked.index + 1\n",
    "    out_degree_ranked['Rank'] = out_degree_ranked.index + 1\n",
    "    overall_degree_ranked['Rank'] = overall_degree_ranked.index + 1\n",
    "\n",
    "    # Function to plot rank vs log scale of degree\n",
    "    def plot_rank_vs_log_degree(ax, data, degree_column, title):\n",
    "        ax.plot(data['Rank'], np.log(data[degree_column]), marker='o', linestyle='-', color='skyblue')\n",
    "        ax.set_title(title)\n",
    "        ax.set_xlabel('Rank (Descending)')\n",
    "        ax.set_ylabel('Log of Degree')\n",
    "        ax.invert_xaxis()  # Inverting x-axis for descending rank\n",
    "\n",
    "    # Creating subplots\n",
    "    fig, axes = plt.subplots(nrows=1, ncols=3, figsize=(18, 6))\n",
    "\n",
    "    # Plotting rank vs log scale of degree for in-degree, out-degree, and overall degree\n",
    "    plot_rank_vs_log_degree(axes[0], in_degree_ranked, 'In-Degree', 'Rank vs Log of In-Degree')\n",
    "    plot_rank_vs_log_degree(axes[1], out_degree_ranked, 'Out-Degree', 'Rank vs Log of Out-Degree')\n",
    "    plot_rank_vs_log_degree(axes[2], overall_degree_ranked, 'Overall-Degree', 'Rank vs Log of Overall Degree')\n",
    "\n",
    "    plt.tight_layout()\n",
    "    plt.show()\n",
    "    \n",
    "    return in_degree_ranked,out_degree_ranked,overall_degree_ranked\n"
   ]
  },
  {
   "cell_type": "markdown",
   "metadata": {},
   "source": [
    "#### Macro-Scale Analysis for USA"
   ]
  },
  {
   "cell_type": "markdown",
   "metadata": {},
   "source": [
    "- Plot for Degree vs Frequency"
   ]
  },
  {
   "cell_type": "code",
   "execution_count": 70,
   "metadata": {},
   "outputs": [
    {
     "data": {
      "image/png": "[encoded data removed]",
      "text/plain": [
       "<Figure size 1800x600 with 3 Axes>"
      ]
     },
     "metadata": {},
     "output_type": "display_data"
    }
   ],
   "source": [
    "plot_degree_vs_frequency_distribution(usa_dataframe)"
   ]
  },
  {
   "cell_type": "markdown",
   "metadata": {},
   "source": [
    "- Lets plot the weighted_degree vs rank \n",
    "\n",
    "These plots provide a way to visualize the distribution of degrees in a network where the differences in degree magnitudes are significant. They highlight the existence of highly connected hubs (locations with very high degrees) in contrast to most other locations that have significantly lower connectivity."
   ]
  },
  {
   "cell_type": "code",
   "execution_count": 77,
   "metadata": {},
   "outputs": [
    {
     "data": {
      "image/png": "[encoded data removed]",
      "text/plain": [
       "<Figure size 1800x600 with 3 Axes>"
      ]
     },
     "metadata": {},
     "output_type": "display_data"
    }
   ],
   "source": [
    "usa_in_degree_ranked,usa_out_degree_ranked,usa_overall_degree_ranked = plot_log_weighted_degree_vs_descending_rank(usa_dataframe)"
   ]
  },
  {
   "cell_type": "markdown",
   "metadata": {},
   "source": [
    "- Plot network plot for in-degree, out-degree and overll degree showing airport ID using topK "
   ]
  },
  {
   "cell_type": "code",
   "execution_count": null,
   "metadata": {},
   "outputs": [],
   "source": []
  }
 ],
 "metadata": {
  "kernelspec": {
   "display_name": "ml_env",
   "language": "python",
   "name": "python3"
  },
  "language_info": {
   "codemirror_mode": {
    "name": "ipython",
    "version": 3
   },
   "file_extension": ".py",
   "mimetype": "text/x-python",
   "name": "python",
   "nbconvert_exporter": "python",
   "pygments_lexer": "ipython3",
   "version": "3.9.18"
  }
 },
 "nbformat": 4,
 "nbformat_minor": 2
}
